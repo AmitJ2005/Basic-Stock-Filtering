{
 "cells": [
  {
   "cell_type": "code",
   "execution_count": 1,
   "id": "20b52236-2916-4524-b2b2-8929f799e7b5",
   "metadata": {},
   "outputs": [],
   "source": [
    "import yfinance as yf"
   ]
  },
  {
   "cell_type": "code",
   "execution_count": 3,
   "id": "4e0400f7-cabc-49ce-9761-76a87807905f",
   "metadata": {},
   "outputs": [],
   "source": [
    "msft = yf.Ticker(\"MRF.NS\")"
   ]
  },
  {
   "cell_type": "code",
   "execution_count": 5,
   "id": "88723198-6793-46a1-a278-6529498344e0",
   "metadata": {},
   "outputs": [],
   "source": [
    "income_statement=msft.income_stmt"
   ]
  },
  {
   "cell_type": "code",
   "execution_count": 19,
   "id": "da1c19d8-b64a-44b1-8345-a55a0552af4d",
   "metadata": {},
   "outputs": [
    {
     "data": {
      "text/html": [
       "<div>\n",
       "<style scoped>\n",
       "    .dataframe tbody tr th:only-of-type {\n",
       "        vertical-align: middle;\n",
       "    }\n",
       "\n",
       "    .dataframe tbody tr th {\n",
       "        vertical-align: top;\n",
       "    }\n",
       "\n",
       "    .dataframe thead th {\n",
       "        text-align: right;\n",
       "    }\n",
       "</style>\n",
       "<table border=\"1\" class=\"dataframe\">\n",
       "  <thead>\n",
       "    <tr style=\"text-align: right;\">\n",
       "      <th></th>\n",
       "      <th>2024-03-31</th>\n",
       "      <th>2023-03-31</th>\n",
       "      <th>2022-03-31</th>\n",
       "      <th>2021-03-31</th>\n",
       "    </tr>\n",
       "  </thead>\n",
       "  <tbody>\n",
       "    <tr>\n",
       "      <th>Total Revenue</th>\n",
       "      <td>250108100000.0</td>\n",
       "      <td>228505600000.0</td>\n",
       "      <td>190271500000.0</td>\n",
       "      <td>160766700000.0</td>\n",
       "    </tr>\n",
       "    <tr>\n",
       "      <th>Operating Revenue</th>\n",
       "      <td>250108100000.0</td>\n",
       "      <td>228505600000.0</td>\n",
       "      <td>190271500000.0</td>\n",
       "      <td>160766700000.0</td>\n",
       "    </tr>\n",
       "    <tr>\n",
       "      <th>Gross Profit</th>\n",
       "      <td>94641500000.0</td>\n",
       "      <td>69932800000.0</td>\n",
       "      <td>60587800000.0</td>\n",
       "      <td>64882000000.0</td>\n",
       "    </tr>\n",
       "    <tr>\n",
       "      <th>Operating Income</th>\n",
       "      <td>28992500000.0</td>\n",
       "      <td>12028700000.0</td>\n",
       "      <td>9581800000.0</td>\n",
       "      <td>19051900000.0</td>\n",
       "    </tr>\n",
       "    <tr>\n",
       "      <th>Net Income</th>\n",
       "      <td>20812300000.0</td>\n",
       "      <td>7689400000.0</td>\n",
       "      <td>6692400000.0</td>\n",
       "      <td>12770700000.0</td>\n",
       "    </tr>\n",
       "    <tr>\n",
       "      <th>Basic EPS</th>\n",
       "      <td>4907.24</td>\n",
       "      <td>1813.04</td>\n",
       "      <td>1577.97</td>\n",
       "      <td>3011.14</td>\n",
       "    </tr>\n",
       "    <tr>\n",
       "      <th>EBITDA</th>\n",
       "      <td>45656100000.0</td>\n",
       "      <td>26371000000.0</td>\n",
       "      <td>23623400000.0</td>\n",
       "      <td>31473500000.0</td>\n",
       "    </tr>\n",
       "    <tr>\n",
       "      <th>Operating Revenue</th>\n",
       "      <td>250108100000.0</td>\n",
       "      <td>228505600000.0</td>\n",
       "      <td>190271500000.0</td>\n",
       "      <td>160766700000.0</td>\n",
       "    </tr>\n",
       "  </tbody>\n",
       "</table>\n",
       "</div>"
      ],
      "text/plain": [
       "                       2024-03-31      2023-03-31      2022-03-31  \\\n",
       "Total Revenue      250108100000.0  228505600000.0  190271500000.0   \n",
       "Operating Revenue  250108100000.0  228505600000.0  190271500000.0   \n",
       "Gross Profit        94641500000.0   69932800000.0   60587800000.0   \n",
       "Operating Income    28992500000.0   12028700000.0    9581800000.0   \n",
       "Net Income          20812300000.0    7689400000.0    6692400000.0   \n",
       "Basic EPS                 4907.24         1813.04         1577.97   \n",
       "EBITDA              45656100000.0   26371000000.0   23623400000.0   \n",
       "Operating Revenue  250108100000.0  228505600000.0  190271500000.0   \n",
       "\n",
       "                       2021-03-31  \n",
       "Total Revenue      160766700000.0  \n",
       "Operating Revenue  160766700000.0  \n",
       "Gross Profit        64882000000.0  \n",
       "Operating Income    19051900000.0  \n",
       "Net Income          12770700000.0  \n",
       "Basic EPS                 3011.14  \n",
       "EBITDA              31473500000.0  \n",
       "Operating Revenue  160766700000.0  "
      ]
     },
     "execution_count": 19,
     "metadata": {},
     "output_type": "execute_result"
    }
   ],
   "source": [
    "income_statement.loc[[\"Total Revenue\", \"Operating Revenue\", \"Gross Profit\", \"Operating Income\", \"Net Income\", \"Basic EPS\", \"EBITDA\",\"Operating Revenue\"]]"
   ]
  },
  {
   "cell_type": "code",
   "execution_count": 11,
   "id": "9e7a978c-149f-47d4-a7cc-c76901d1d428",
   "metadata": {},
   "outputs": [],
   "source": [
    "cashflow=msft.cashflow"
   ]
  },
  {
   "cell_type": "code",
   "execution_count": 17,
   "id": "629e1468-1d68-406c-959d-ca2f96a16273",
   "metadata": {},
   "outputs": [
    {
     "data": {
      "text/html": [
       "<div>\n",
       "<style scoped>\n",
       "    .dataframe tbody tr th:only-of-type {\n",
       "        vertical-align: middle;\n",
       "    }\n",
       "\n",
       "    .dataframe tbody tr th {\n",
       "        vertical-align: top;\n",
       "    }\n",
       "\n",
       "    .dataframe thead th {\n",
       "        text-align: right;\n",
       "    }\n",
       "</style>\n",
       "<table border=\"1\" class=\"dataframe\">\n",
       "  <thead>\n",
       "    <tr style=\"text-align: right;\">\n",
       "      <th></th>\n",
       "      <th>2024-03-31</th>\n",
       "      <th>2023-03-31</th>\n",
       "      <th>2022-03-31</th>\n",
       "      <th>2021-03-31</th>\n",
       "      <th>2020-03-31</th>\n",
       "    </tr>\n",
       "  </thead>\n",
       "  <tbody>\n",
       "    <tr>\n",
       "      <th>Free Cash Flow</th>\n",
       "      <td>11381800000.0</td>\n",
       "      <td>-5357700000.0</td>\n",
       "      <td>-22850200000.0</td>\n",
       "      <td>34718400000.0</td>\n",
       "      <td>NaN</td>\n",
       "    </tr>\n",
       "    <tr>\n",
       "      <th>Operating Cash Flow</th>\n",
       "      <td>33005000000.0</td>\n",
       "      <td>27554700000.0</td>\n",
       "      <td>-5780100000.0</td>\n",
       "      <td>43245800000.0</td>\n",
       "      <td>NaN</td>\n",
       "    </tr>\n",
       "  </tbody>\n",
       "</table>\n",
       "</div>"
      ],
      "text/plain": [
       "                        2024-03-31     2023-03-31     2022-03-31  \\\n",
       "Free Cash Flow       11381800000.0  -5357700000.0 -22850200000.0   \n",
       "Operating Cash Flow  33005000000.0  27554700000.0  -5780100000.0   \n",
       "\n",
       "                        2021-03-31 2020-03-31  \n",
       "Free Cash Flow       34718400000.0        NaN  \n",
       "Operating Cash Flow  43245800000.0        NaN  "
      ]
     },
     "execution_count": 17,
     "metadata": {},
     "output_type": "execute_result"
    }
   ],
   "source": [
    "cashflow.loc[['Free Cash Flow','Operating Cash Flow']]"
   ]
  },
  {
   "cell_type": "code",
   "execution_count": null,
   "id": "b71bf40a-d40e-4564-b9ac-8fb7c4e9ec7b",
   "metadata": {},
   "outputs": [],
   "source": []
  }
 ],
 "metadata": {
  "kernelspec": {
   "display_name": "Python 3 (ipykernel)",
   "language": "python",
   "name": "python3"
  },
  "language_info": {
   "codemirror_mode": {
    "name": "ipython",
    "version": 3
   },
   "file_extension": ".py",
   "mimetype": "text/x-python",
   "name": "python",
   "nbconvert_exporter": "python",
   "pygments_lexer": "ipython3",
   "version": "3.12.4"
  }
 },
 "nbformat": 4,
 "nbformat_minor": 5
}
